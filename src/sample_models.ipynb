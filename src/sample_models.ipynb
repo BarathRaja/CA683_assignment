{
  "nbformat": 4,
  "nbformat_minor": 0,
  "metadata": {
    "colab": {
      "name": "Final Model.ipynb",
      "provenance": [],
      "collapsed_sections": []
    },
    "kernelspec": {
      "name": "python3",
      "display_name": "Python 3"
    }
  },
  "cells": [
    {
      "cell_type": "code",
      "metadata": {
        "id": "en7uUyriHoBT",
        "colab_type": "code",
        "colab": {}
      },
      "source": [
        "df = pd.read_csv(\"/content/drive/My Drive/covtype.csv\")"
      ],
      "execution_count": 0,
      "outputs": []
    },
    {
      "cell_type": "code",
      "metadata": {
        "id": "d1qTeQB-HzH9",
        "colab_type": "code",
        "colab": {
          "base_uri": "https://localhost:8080/",
          "height": 70
        },
        "outputId": "fe469e6c-d501-44e1-fae8-7295f3b672c0"
      },
      "source": [
        "import pandas as pd\n",
        "import pandas as pd\n",
        "import warnings\n",
        "import numpy as np\n",
        "import seaborn as sns\n",
        "import matplotlib.pyplot as plt\n",
        "from sklearn.model_selection import train_test_split\n",
        "%matplotlib inline \n",
        "\n",
        "from sklearn.neighbors import KNeighborsClassifier\n",
        "from sklearn.metrics import accuracy_score\n",
        "from sklearn.model_selection import train_test_split\n",
        "from sklearn.model_selection import cross_val_score\n",
        "\n",
        "warnings.filterwarnings('ignore')\n",
        "pd.set_option('display.max_columns', 1000)"
      ],
      "execution_count": 1,
      "outputs": [
        {
          "output_type": "stream",
          "text": [
            "/usr/local/lib/python3.6/dist-packages/statsmodels/tools/_testing.py:19: FutureWarning: pandas.util.testing is deprecated. Use the functions in the public API at pandas.testing instead.\n",
            "  import pandas.util.testing as tm\n"
          ],
          "name": "stderr"
        }
      ]
    },
    {
      "cell_type": "code",
      "metadata": {
        "id": "Vxg-b9WyH0Dp",
        "colab_type": "code",
        "colab": {}
      },
      "source": [
        "X=df.loc[:,'Elevation':'Soil_Type40']\n",
        "y=df['Cover_Type']"
      ],
      "execution_count": 0,
      "outputs": []
    },
    {
      "cell_type": "code",
      "metadata": {
        "id": "EB3Y-WtqH5Vr",
        "colab_type": "code",
        "colab": {}
      },
      "source": [
        "#Features to be removed before the model\n",
        "rem=['Soil_Type7','Soil_Type8','Soil_Type14','Soil_Type15',\n",
        "     'Soil_Type21','Soil_Type25','Soil_Type28','Soil_Type36','Soil_Type37']"
      ],
      "execution_count": 0,
      "outputs": []
    },
    {
      "cell_type": "code",
      "metadata": {
        "id": "71dDDZicH7Zp",
        "colab_type": "code",
        "colab": {}
      },
      "source": [
        "X.drop(rem, axis=1, inplace=True)"
      ],
      "execution_count": 0,
      "outputs": []
    },
    {
      "cell_type": "code",
      "metadata": {
        "id": "WamGlX__H-Sy",
        "colab_type": "code",
        "colab": {}
      },
      "source": [
        "X_train, X_test, y_train, y_test = train_test_split(X,y, test_size=0.25, random_state=101)"
      ],
      "execution_count": 0,
      "outputs": []
    },
    {
      "cell_type": "code",
      "metadata": {
        "id": "jTni0WO3H-WL",
        "colab_type": "code",
        "colab": {}
      },
      "source": [
        "### defining function for training models and measuring performance \n",
        "\n",
        "# to measure performance\n",
        "from sklearn.model_selection import cross_val_score\n",
        "\n",
        "def model_evaluation(clf):\n",
        "    \n",
        "    # passing classifier to a variable\n",
        "    clf = clf\n",
        "    \n",
        "    # classifier learning the model\n",
        "    clf = clf.fit(X_train, y_train)\n",
        "\n",
        "    accuracy  = cross_val_score(clf, X_train, y_train, cv = 10, scoring = 'accuracy')\n",
        "    f1_score = cross_val_score(clf, X_train, y_train, cv = 10, scoring = 'f1_macro')\n",
        "    acc_mean = np.round(accuracy.mean() * 100, 2)\n",
        "    f1_mean = np.round(f1_score.mean() * 100, 2)\n",
        "        \n",
        "    # Removing traces of classifier\n",
        "    clf = None    \n",
        "    \n",
        "    # returns performance measure and time of the classifier \n",
        "    print(\"The accuracy score of this classifier on our training set is\", acc_mean,\"% and f1 score is\", f1_mean,\"%\" )"
      ],
      "execution_count": 0,
      "outputs": []
    },
    {
      "cell_type": "code",
      "metadata": {
        "id": "azn3KLt-JzAb",
        "colab_type": "code",
        "colab": {
          "base_uri": "https://localhost:8080/",
          "height": 34
        },
        "outputId": "18be99bc-1044-411d-9069-a106b1870ba7"
      },
      "source": [
        "from sklearn.linear_model import LogisticRegression\n",
        "\n",
        "model_evaluation(LogisticRegression(n_jobs = -1, random_state = 53))"
      ],
      "execution_count": 8,
      "outputs": [
        {
          "output_type": "stream",
          "text": [
            "The accuracy score of this classifier on our training set is 61.92 % and f1 score is 23.11 %\n"
          ],
          "name": "stdout"
        }
      ]
    },
    {
      "cell_type": "code",
      "metadata": {
        "id": "FCERYEZ4UsaV",
        "colab_type": "code",
        "colab": {
          "base_uri": "https://localhost:8080/",
          "height": 34
        },
        "outputId": "ab05301d-4d87-4ab2-c1e8-1eb09f47426a"
      },
      "source": [
        "from sklearn.ensemble import RandomForestClassifier\n",
        "\n",
        "model_evaluation(RandomForestClassifier(n_jobs=-1, random_state = 53))"
      ],
      "execution_count": 9,
      "outputs": [
        {
          "output_type": "stream",
          "text": [
            "The accuracy score of this classifier on our training set is 95.2 % and f1 score is 91.98 %\n"
          ],
          "name": "stdout"
        }
      ]
    },
    {
      "cell_type": "code",
      "metadata": {
        "id": "rvX2J9XzlK2t",
        "colab_type": "code",
        "colab": {
          "base_uri": "https://localhost:8080/",
          "height": 34
        },
        "outputId": "b0747979-e781-4f5c-e126-22d9201da773"
      },
      "source": [
        "from sklearn.neighbors import KNeighborsClassifier\n",
        "\n",
        "model_evaluation(KNeighborsClassifier(n_jobs=-1))"
      ],
      "execution_count": 10,
      "outputs": [
        {
          "output_type": "stream",
          "text": [
            "The accuracy score of this classifier on our training set is 96.52 % and f1 score is 93.11 %\n"
          ],
          "name": "stdout"
        }
      ]
    }
  ]
}
